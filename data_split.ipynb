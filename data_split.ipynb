{
 "cells": [
  {
   "cell_type": "code",
   "execution_count": 4,
   "metadata": {
    "ExecuteTime": {
     "end_time": "2021-06-22T22:10:14.445167Z",
     "start_time": "2021-06-22T22:10:14.437167Z"
    }
   },
   "outputs": [],
   "source": [
    "import os\n",
    "import numpy as np\n",
    "import shutil\n",
    "import random"
   ]
  },
  {
   "cell_type": "code",
   "execution_count": 93,
   "metadata": {
    "ExecuteTime": {
     "end_time": "2021-06-23T00:15:16.265930Z",
     "start_time": "2021-06-23T00:15:16.261933Z"
    }
   },
   "outputs": [],
   "source": [
    "root_dir = 'images'\n",
    "classes_dir = ['/E', '/E10plus', '/T', '/M']\n",
    "\n",
    "val_ratio = 0.05\n",
    "test_ratio = 0.20"
   ]
  },
  {
   "cell_type": "code",
   "execution_count": 21,
   "metadata": {
    "ExecuteTime": {
     "end_time": "2021-06-17T15:26:39.388361Z",
     "start_time": "2021-06-17T15:26:39.372696Z"
    }
   },
   "outputs": [],
   "source": [
    "# Make separate directories for train, val, and test data\n",
    "try:\n",
    "    for cls in classes_dir:\n",
    "        os.makedirs(root_dir + '/train' + cls)\n",
    "        os.makedirs(root_dir + '/val' + cls)\n",
    "        os.makedirs(root_dir + '/test' + cls)\n",
    "except:\n",
    "    pass"
   ]
  },
  {
   "cell_type": "code",
   "execution_count": 94,
   "metadata": {
    "ExecuteTime": {
     "end_time": "2021-06-23T00:15:20.922475Z",
     "start_time": "2021-06-23T00:15:20.911478Z"
    }
   },
   "outputs": [],
   "source": [
    "# Directories for binary modeling\n",
    "bin_dir = ['/E-T', '/M']\n",
    "\n",
    "try:\n",
    "    for cls in bin_dir:\n",
    "        os.makedirs(root_dir + '/binary/train' + cls)\n",
    "        os.makedirs(root_dir + '/binary/val' + cls)\n",
    "        os.makedirs(root_dir + '/binary/test' + cls)\n",
    "except:\n",
    "    pass"
   ]
  },
  {
   "cell_type": "code",
   "execution_count": 38,
   "metadata": {
    "ExecuteTime": {
     "end_time": "2021-06-22T23:31:10.123653Z",
     "start_time": "2021-06-22T23:31:10.094679Z"
    }
   },
   "outputs": [],
   "source": [
    "# Testing the split\n",
    "src = 'images/M'\n",
    "\n",
    "allFileNames = os.listdir(src)\n",
    "og_length = len(allFileNames)\n",
    "np.random.shuffle(allFileNames)\n",
    "split1 = round(int(len(allFileNames) * (1-(val_ratio+test_ratio)))/10)*10\n",
    "split2 = round(int(len(allFileNames) * (1-test_ratio))/10)*10\n",
    "train_FileNames, val_FileNames, test_FileNames = np.split(np.array(allFileNames),\n",
    "                                                          [split1, split2])"
   ]
  },
  {
   "cell_type": "code",
   "execution_count": 39,
   "metadata": {
    "ExecuteTime": {
     "end_time": "2021-06-22T23:31:10.645380Z",
     "start_time": "2021-06-22T23:31:10.637382Z"
    }
   },
   "outputs": [
    {
     "name": "stdout",
     "output_type": "stream",
     "text": [
      "total images:  9040\n",
      "train:  6780\n",
      "val:  450\n",
      "test:  1810\n"
     ]
    }
   ],
   "source": [
    "print('total images: ', og_length)\n",
    "print('train: ', len(train_FileNames))\n",
    "print('val: ', len(val_FileNames))\n",
    "print('test: ', len(test_FileNames))"
   ]
  },
  {
   "cell_type": "code",
   "execution_count": 24,
   "metadata": {
    "ExecuteTime": {
     "end_time": "2021-06-17T15:29:55.930767Z",
     "start_time": "2021-06-17T15:28:43.463866Z"
    },
    "scrolled": false
   },
   "outputs": [
    {
     "name": "stdout",
     "output_type": "stream",
     "text": [
      "/E\n",
      "Total images:  11240\n",
      "Training:  8430\n",
      "Val:  560\n",
      "Test:  2250\n",
      "---------------\n",
      "/E10plus\n",
      "Total images:  9480\n",
      "Training:  7110\n",
      "Val:  470\n",
      "Test:  1900\n",
      "---------------\n",
      "/T\n",
      "Total images:  15070\n",
      "Training:  11300\n",
      "Val:  760\n",
      "Test:  3010\n",
      "---------------\n",
      "/M\n",
      "Total images:  9040\n",
      "Training:  6780\n",
      "Val:  450\n",
      "Test:  1810\n",
      "---------------\n"
     ]
    }
   ],
   "source": [
    "# Split for each class\n",
    "for cls in classes_dir:\n",
    "    src = root_dir + cls\n",
    "    \n",
    "    allFileNames = os.listdir(src)\n",
    "    np.random.shuffle(allFileNames)\n",
    "    split1 = round(int(len(allFileNames) * (1-(val_ratio+test_ratio)))/10)*10\n",
    "    split2 = round(int(len(allFileNames) * (1-test_ratio))/10)*10\n",
    "    train_FileNames, val_FileNames, test_FileNames = np.split(np.array(allFileNames),\n",
    "                                                              [split1, split2])\n",
    "    \n",
    "    train_FileNames = [src+'/'+ name for name in train_FileNames.tolist()]\n",
    "    val_FileNames = [src+'/'+ name for name in val_FileNames.tolist()]\n",
    "    test_FileNames = [src+'/'+ name for name in test_FileNames.tolist()]\n",
    "    \n",
    "    print(cls)\n",
    "    print('Total images: ', len(allFileNames))\n",
    "    print('Training: ', len(train_FileNames))\n",
    "    print('Val: ', len(val_FileNames))\n",
    "    print('Test: ', len(test_FileNames))\n",
    "    print('-----' * 3)\n",
    "    \n",
    "    for name in train_FileNames:\n",
    "        shutil.copy(name, root_dir + '/train' + cls)\n",
    "        \n",
    "    for name in val_FileNames:\n",
    "        shutil.copy(name, root_dir + '/val' + cls)\n",
    "        \n",
    "    for name in test_FileNames:\n",
    "        shutil.copy(name, root_dir + '/test' + cls)"
   ]
  },
  {
   "cell_type": "code",
   "execution_count": 95,
   "metadata": {
    "ExecuteTime": {
     "end_time": "2021-06-23T00:16:27.784327Z",
     "start_time": "2021-06-23T00:15:27.231695Z"
    }
   },
   "outputs": [
    {
     "name": "stdout",
     "output_type": "stream",
     "text": [
      "/E\n",
      "Total images:  11240\n",
      "Training:  8430\n",
      "Val:  560\n",
      "Test:  2250\n",
      "---------------\n",
      "/E10plus\n",
      "Total images:  9480\n",
      "Training:  7110\n",
      "Val:  470\n",
      "Test:  1900\n",
      "---------------\n",
      "/T\n",
      "Total images:  15070\n",
      "Training:  11300\n",
      "Val:  760\n",
      "Test:  3010\n",
      "---------------\n",
      "/M\n",
      "Total images:  9040\n",
      "Training:  6780\n",
      "Val:  450\n",
      "Test:  1810\n",
      "---------------\n"
     ]
    }
   ],
   "source": [
    "# Split for binary modeling\n",
    "for cls in classes_dir:\n",
    "    src = root_dir + cls\n",
    "    \n",
    "    allFileNames = os.listdir(src)\n",
    "    np.random.shuffle(allFileNames)\n",
    "    split1 = round(int(len(allFileNames) * (1-(val_ratio+test_ratio)))/10)*10\n",
    "    split2 = round(int(len(allFileNames) * (1-test_ratio))/10)*10\n",
    "    train_FileNames, val_FileNames, test_FileNames = np.split(np.array(allFileNames),\n",
    "                                                              [split1, split2])\n",
    "    \n",
    "    train_FileNames = [src+'/'+ name for name in train_FileNames.tolist()]\n",
    "    val_FileNames = [src+'/'+ name for name in val_FileNames.tolist()]\n",
    "    test_FileNames = [src+'/'+ name for name in test_FileNames.tolist()]\n",
    "    \n",
    "    print(cls)\n",
    "    print('Total images: ', len(allFileNames))\n",
    "    print('Training: ', len(train_FileNames))\n",
    "    print('Val: ', len(val_FileNames))\n",
    "    print('Test: ', len(test_FileNames))\n",
    "    print('-----' * 3)\n",
    "    \n",
    "    for name in train_FileNames:\n",
    "        if cls != '/M':\n",
    "            shutil.copy(name, root_dir + '/binary/train/E-T')\n",
    "        else:\n",
    "            shutil.copy(name, root_dir + '/binary/train/M')\n",
    "        \n",
    "    for name in val_FileNames:\n",
    "        if cls != '/M':\n",
    "            shutil.copy(name, root_dir + '/binary/val/E-T')\n",
    "        else:\n",
    "            shutil.copy(name, root_dir + '/binary/val/M')\n",
    "        \n",
    "    for name in test_FileNames:\n",
    "        if cls != '/M':\n",
    "            shutil.copy(name, root_dir + '/binary/test/E-T')\n",
    "        else:\n",
    "            shutil.copy(name, root_dir + '/binary/test/M')"
   ]
  },
  {
   "cell_type": "code",
   "execution_count": null,
   "metadata": {},
   "outputs": [],
   "source": []
  }
 ],
 "metadata": {
  "kernelspec": {
   "display_name": "learn-env",
   "language": "python",
   "name": "learn-env"
  },
  "language_info": {
   "codemirror_mode": {
    "name": "ipython",
    "version": 3
   },
   "file_extension": ".py",
   "mimetype": "text/x-python",
   "name": "python",
   "nbconvert_exporter": "python",
   "pygments_lexer": "ipython3",
   "version": "3.6.9"
  },
  "toc": {
   "base_numbering": 1,
   "nav_menu": {},
   "number_sections": true,
   "sideBar": true,
   "skip_h1_title": false,
   "title_cell": "Table of Contents",
   "title_sidebar": "Contents",
   "toc_cell": false,
   "toc_position": {},
   "toc_section_display": true,
   "toc_window_display": false
  },
  "varInspector": {
   "cols": {
    "lenName": 16,
    "lenType": 16,
    "lenVar": 40
   },
   "kernels_config": {
    "python": {
     "delete_cmd_postfix": "",
     "delete_cmd_prefix": "del ",
     "library": "var_list.py",
     "varRefreshCmd": "print(var_dic_list())"
    },
    "r": {
     "delete_cmd_postfix": ") ",
     "delete_cmd_prefix": "rm(",
     "library": "var_list.r",
     "varRefreshCmd": "cat(var_dic_list()) "
    }
   },
   "types_to_exclude": [
    "module",
    "function",
    "builtin_function_or_method",
    "instance",
    "_Feature"
   ],
   "window_display": true
  }
 },
 "nbformat": 4,
 "nbformat_minor": 2
}
