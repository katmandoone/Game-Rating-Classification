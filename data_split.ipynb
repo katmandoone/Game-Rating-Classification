{
 "cells": [
  {
   "cell_type": "code",
   "execution_count": 1,
   "metadata": {
    "ExecuteTime": {
     "end_time": "2021-05-15T18:49:41.296083Z",
     "start_time": "2021-05-15T18:49:41.293931Z"
    }
   },
   "outputs": [],
   "source": [
    "import os\n",
    "import numpy as np\n",
    "import shutil\n",
    "import random"
   ]
  },
  {
   "cell_type": "code",
   "execution_count": 2,
   "metadata": {
    "ExecuteTime": {
     "end_time": "2021-05-15T18:49:43.579644Z",
     "start_time": "2021-05-15T18:49:43.571758Z"
    }
   },
   "outputs": [],
   "source": [
    "root_dir = 'images'\n",
    "classes_dir = ['/E', '/E10plus', '/T', '/M']\n",
    "\n",
    "val_ratio = 0.05\n",
    "test_ratio = 0.20"
   ]
  },
  {
   "cell_type": "code",
   "execution_count": 4,
   "metadata": {
    "ExecuteTime": {
     "end_time": "2021-05-15T18:53:32.300508Z",
     "start_time": "2021-05-15T18:53:32.281856Z"
    }
   },
   "outputs": [],
   "source": [
    "for cls in classes_dir:\n",
    "    os.makedirs(root_dir + '/train' + cls)\n",
    "    os.makedirs(root_dir + '/val' + cls)\n",
    "    os.makedirs(root_dir + '/test' + cls)"
   ]
  },
  {
   "cell_type": "code",
   "execution_count": 31,
   "metadata": {
    "ExecuteTime": {
     "end_time": "2021-05-13T22:56:14.193838Z",
     "start_time": "2021-05-13T22:56:14.132841Z"
    }
   },
   "outputs": [
    {
     "name": "stdout",
     "output_type": "stream",
     "text": [
      "[6472,6904]\n"
     ]
    }
   ],
   "source": [
    "src = 'images/M'\n",
    "\n",
    "allFileNames = os.listdir(src)\n",
    "np.random.shuffle(allFileNames)\n",
    "train_FileNames, val_FileNames, test_FileNames = np.split(np.array(allFileNames),\n",
    "                                                         [int(len(allFileNames) * (1 - (val_ratio + test_ratio))),\n",
    "                                                          int(len(allFileNames) * (1 - test_ratio))])\n",
    "\n",
    "print('['+str(int(len(allFileNames)*(1-(test_ratio+val_ratio))))+','+str(int(len(allFileNames)*(1-test_ratio)))+']')"
   ]
  },
  {
   "cell_type": "code",
   "execution_count": 32,
   "metadata": {
    "ExecuteTime": {
     "end_time": "2021-05-13T22:56:15.545241Z",
     "start_time": "2021-05-13T22:56:15.533237Z"
    }
   },
   "outputs": [
    {
     "name": "stdout",
     "output_type": "stream",
     "text": [
      "train:  6472\n",
      "val:  432\n",
      "test:  1726\n"
     ]
    }
   ],
   "source": [
    "print('train: ', len(train_FileNames))\n",
    "print('val: ', len(val_FileNames))\n",
    "print('test: ', len(test_FileNames))"
   ]
  },
  {
   "cell_type": "code",
   "execution_count": 5,
   "metadata": {
    "ExecuteTime": {
     "end_time": "2021-05-15T18:56:19.113448Z",
     "start_time": "2021-05-15T18:53:41.685078Z"
    },
    "scrolled": false
   },
   "outputs": [
    {
     "name": "stdout",
     "output_type": "stream",
     "text": [
      "/E\n",
      "Total images:  10980\n",
      "Training:  8235\n",
      "Val:  549\n",
      "Test:  2196\n",
      "---------------\n",
      "/E10plus\n",
      "Total images:  9270\n",
      "Training:  6952\n",
      "Val:  464\n",
      "Test:  1854\n",
      "---------------\n",
      "/T\n",
      "Total images:  14600\n",
      "Training:  10950\n",
      "Val:  730\n",
      "Test:  2920\n",
      "---------------\n",
      "/M\n",
      "Total images:  8630\n",
      "Training:  6472\n",
      "Val:  432\n",
      "Test:  1726\n",
      "---------------\n"
     ]
    }
   ],
   "source": [
    "for cls in classes_dir:\n",
    "    src = root_dir + cls\n",
    "    \n",
    "    allFileNames = os.listdir(src)\n",
    "    np.random.shuffle(allFileNames)\n",
    "    train_FileNames, val_FileNames, test_FileNames = np.split(np.array(allFileNames),\n",
    "                                                             [int(len(allFileNames) * (1 - (val_ratio + test_ratio))),\n",
    "                                                              int(len(allFileNames) * (1 - test_ratio))])\n",
    "    \n",
    "    train_FileNames = [src+'/'+ name for name in train_FileNames.tolist()]\n",
    "    val_FileNames = [src+'/'+ name for name in val_FileNames.tolist()]\n",
    "    test_FileNames = [src+'/'+ name for name in test_FileNames.tolist()]\n",
    "    \n",
    "    print(cls)\n",
    "    print('Total images: ', len(allFileNames))\n",
    "    print('Training: ', len(train_FileNames))\n",
    "    print('Val: ', len(val_FileNames))\n",
    "    print('Test: ', len(test_FileNames))\n",
    "    print('-----' * 3)\n",
    "    \n",
    "    for name in train_FileNames:\n",
    "        shutil.copy(name, root_dir + '/train' + cls)\n",
    "        \n",
    "    for name in val_FileNames:\n",
    "        shutil.copy(name, root_dir + '/val' + cls)\n",
    "        \n",
    "    for name in test_FileNames:\n",
    "        shutil.copy(name, root_dir + '/test' + cls)"
   ]
  },
  {
   "cell_type": "code",
   "execution_count": null,
   "metadata": {},
   "outputs": [],
   "source": []
  }
 ],
 "metadata": {
  "kernelspec": {
   "display_name": "learn-env",
   "language": "python",
   "name": "learn-env"
  },
  "language_info": {
   "codemirror_mode": {
    "name": "ipython",
    "version": 3
   },
   "file_extension": ".py",
   "mimetype": "text/x-python",
   "name": "python",
   "nbconvert_exporter": "python",
   "pygments_lexer": "ipython3",
   "version": "3.6.9"
  },
  "toc": {
   "base_numbering": 1,
   "nav_menu": {},
   "number_sections": true,
   "sideBar": true,
   "skip_h1_title": false,
   "title_cell": "Table of Contents",
   "title_sidebar": "Contents",
   "toc_cell": false,
   "toc_position": {},
   "toc_section_display": true,
   "toc_window_display": false
  },
  "varInspector": {
   "cols": {
    "lenName": 16,
    "lenType": 16,
    "lenVar": 40
   },
   "kernels_config": {
    "python": {
     "delete_cmd_postfix": "",
     "delete_cmd_prefix": "del ",
     "library": "var_list.py",
     "varRefreshCmd": "print(var_dic_list())"
    },
    "r": {
     "delete_cmd_postfix": ") ",
     "delete_cmd_prefix": "rm(",
     "library": "var_list.r",
     "varRefreshCmd": "cat(var_dic_list()) "
    }
   },
   "types_to_exclude": [
    "module",
    "function",
    "builtin_function_or_method",
    "instance",
    "_Feature"
   ],
   "window_display": false
  }
 },
 "nbformat": 4,
 "nbformat_minor": 2
}
