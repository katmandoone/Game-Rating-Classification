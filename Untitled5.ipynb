{
 "cells": [
  {
   "cell_type": "markdown",
   "metadata": {},
   "source": [
    "# Objective\n",
    "\n",
    "For this project, we are trying to use convolutional neural networks to try to identify the ESRB rating of video games based on images from the game. This could have applications in live content moderation on platforms such as Twitch or YouTube, where a streamer might be streaming games with mature content without identifying their stream as containing mature content. If we can train a CNN to identify mature content or at least flag that content for human review, we can help reduce the amount of content that human reviewers would have to sift through. We could also hopefully identify a greater amount of mature content without the need of user reporting, ideally leading to less consumption by young audiences before the content is reported."
   ]
  },
  {
   "cell_type": "markdown",
   "metadata": {},
   "source": [
    "# Obtain"
   ]
  },
  {
   "cell_type": "code",
   "execution_count": 1,
   "metadata": {
    "ExecuteTime": {
     "end_time": "2021-06-22T09:27:47.113729Z",
     "start_time": "2021-06-22T09:27:46.375126Z"
    }
   },
   "outputs": [],
   "source": [
    "# Imports\n",
    "import pandas as pd"
   ]
  },
  {
   "cell_type": "markdown",
   "metadata": {},
   "source": [
    "First, we want a list of games and their respective ratings. We'll pull that information from the ESRB website, and we'll use games released for the PlayStation 4, Xbox One, and Nintendo Switch. The notebook 'data_scrape_titles' details the process of scraping the information using Selenium. A pandas DataFrame containing the data is saved as 'esrb_ratings.pkl'."
   ]
  },
  {
   "cell_type": "code",
   "execution_count": 2,
   "metadata": {
    "ExecuteTime": {
     "end_time": "2021-06-22T09:27:47.676376Z",
     "start_time": "2021-06-22T09:27:47.632038Z"
    }
   },
   "outputs": [
    {
     "data": {
      "text/html": [
       "<div>\n",
       "<style scoped>\n",
       "    .dataframe tbody tr th:only-of-type {\n",
       "        vertical-align: middle;\n",
       "    }\n",
       "\n",
       "    .dataframe tbody tr th {\n",
       "        vertical-align: top;\n",
       "    }\n",
       "\n",
       "    .dataframe thead th {\n",
       "        text-align: right;\n",
       "    }\n",
       "</style>\n",
       "<table border=\"1\" class=\"dataframe\">\n",
       "  <thead>\n",
       "    <tr style=\"text-align: right;\">\n",
       "      <th></th>\n",
       "      <th>title</th>\n",
       "      <th>consoles</th>\n",
       "      <th>descriptors</th>\n",
       "      <th>rating</th>\n",
       "    </tr>\n",
       "  </thead>\n",
       "  <tbody>\n",
       "    <tr>\n",
       "      <th>0</th>\n",
       "      <td>Blizzard Arcade Collection</td>\n",
       "      <td>[PlayStation 4, Nintendo Switch, Xbox One]</td>\n",
       "      <td>[Blood, Fantasy Violence, Language, Use of Tob...</td>\n",
       "      <td>T</td>\n",
       "    </tr>\n",
       "    <tr>\n",
       "      <th>1</th>\n",
       "      <td>Rez Infinite</td>\n",
       "      <td>[PlayStation 4]</td>\n",
       "      <td>[Fantasy Violence]</td>\n",
       "      <td>E10plus</td>\n",
       "    </tr>\n",
       "    <tr>\n",
       "      <th>2</th>\n",
       "      <td>Hotshot Racing</td>\n",
       "      <td>[PlayStation 4, Nintendo Switch]</td>\n",
       "      <td>[Alcohol Reference, Language, Mild Violence]</td>\n",
       "      <td>E10plus</td>\n",
       "    </tr>\n",
       "    <tr>\n",
       "      <th>3</th>\n",
       "      <td>Sea of Solitude : The Director's Cut</td>\n",
       "      <td>[Nintendo Switch]</td>\n",
       "      <td>[Fantasy Violence, Language]</td>\n",
       "      <td>T</td>\n",
       "    </tr>\n",
       "    <tr>\n",
       "      <th>4</th>\n",
       "      <td>Ape Out</td>\n",
       "      <td>[Nintendo Switch]</td>\n",
       "      <td>[Blood and Gore, Violence]</td>\n",
       "      <td>T</td>\n",
       "    </tr>\n",
       "  </tbody>\n",
       "</table>\n",
       "</div>"
      ],
      "text/plain": [
       "                                  title  \\\n",
       "0            Blizzard Arcade Collection   \n",
       "1                          Rez Infinite   \n",
       "2                        Hotshot Racing   \n",
       "3  Sea of Solitude : The Director's Cut   \n",
       "4                               Ape Out   \n",
       "\n",
       "                                     consoles  \\\n",
       "0  [PlayStation 4, Nintendo Switch, Xbox One]   \n",
       "1                             [PlayStation 4]   \n",
       "2            [PlayStation 4, Nintendo Switch]   \n",
       "3                           [Nintendo Switch]   \n",
       "4                           [Nintendo Switch]   \n",
       "\n",
       "                                         descriptors   rating  \n",
       "0  [Blood, Fantasy Violence, Language, Use of Tob...        T  \n",
       "1                                 [Fantasy Violence]  E10plus  \n",
       "2       [Alcohol Reference, Language, Mild Violence]  E10plus  \n",
       "3                       [Fantasy Violence, Language]        T  \n",
       "4                         [Blood and Gore, Violence]        T  "
      ]
     },
     "execution_count": 2,
     "metadata": {},
     "output_type": "execute_result"
    }
   ],
   "source": [
    "df = pd.read_pickle('esrb_ratings.pkl')\n",
    "df.head()"
   ]
  },
  {
   "cell_type": "markdown",
   "metadata": {},
   "source": [
    "With this data, we'll use Selenium once again to go through the game titles and pull 10 images of each game from Google Images. This process is detailed in the notebook 'data_scrape_images'. After running the notebook, the images are saved in an 'images' directory, with each image being saved in a subdirectory corresponding to the game's rating."
   ]
  },
  {
   "cell_type": "markdown",
   "metadata": {},
   "source": [
    "# Scrub"
   ]
  },
  {
   "cell_type": "markdown",
   "metadata": {},
   "source": [
    "With our images gathered and sorted, we then run the code in the notebook 'data_split' to split our images into training, validation, and test sets. We do two different splits. In the first split, the game images are sorted according to the specific ratings of their games(E, E10plus, M, T). In the second split, The game images are sorted into groups of E-T and M.\n",
    "\n",
    "![Image Folder](project_images/images_folder.png)\n",
    "\n",
    "The first will allow us to do a 4-class categorical classification. The second will allow us to do a binary classification. Our main goal is to identify M-rated games, and we'll have to see whether a categorical or binary model is better-equipped to do that."
   ]
  },
  {
   "cell_type": "markdown",
   "metadata": {},
   "source": [
    "# Explore"
   ]
  },
  {
   "cell_type": "code",
   "execution_count": 8,
   "metadata": {
    "ExecuteTime": {
     "end_time": "2021-06-22T09:32:46.771251Z",
     "start_time": "2021-06-22T09:32:46.751775Z"
    }
   },
   "outputs": [
    {
     "ename": "TabError",
     "evalue": "inconsistent use of tabs and spaces in indentation (my_module.py, line 94)",
     "output_type": "error",
     "traceback": [
      "Traceback \u001b[1;36m(most recent call last)\u001b[0m:\n",
      "  File \u001b[0;32m\"C:\\Users\\katma\\anaconda3\\envs\\learn-env\\lib\\site-packages\\IPython\\core\\interactiveshell.py\"\u001b[0m, line \u001b[0;32m3326\u001b[0m, in \u001b[0;35mrun_code\u001b[0m\n    exec(code_obj, self.user_global_ns, self.user_ns)\n",
      "\u001b[1;36m  File \u001b[1;32m\"<ipython-input-8-875e48af322d>\"\u001b[1;36m, line \u001b[1;32m7\u001b[1;36m, in \u001b[1;35m<module>\u001b[1;36m\u001b[0m\n\u001b[1;33m    import my_module as custom\u001b[0m\n",
      "\u001b[1;36m  File \u001b[1;32m\"C:\\Users\\katma\\course_materials\\capstone-project\\my_module.py\"\u001b[1;36m, line \u001b[1;32m94\u001b[0m\n\u001b[1;33m    print(model.evaluate(test_gen))\u001b[0m\n\u001b[1;37m                                   ^\u001b[0m\n\u001b[1;31mTabError\u001b[0m\u001b[1;31m:\u001b[0m inconsistent use of tabs and spaces in indentation\n"
     ]
    }
   ],
   "source": [
    "# Imports\n",
    "import tensorflow as tf\n",
    "from tensorflow.keras.models import *\n",
    "from tensorflow.keras.layers import *\n",
    "from tensorflow.keras.preprocessing.image import ImageDataGenerator\n",
    "\n",
    "import my_module as custom"
   ]
  },
  {
   "cell_type": "markdown",
   "metadata": {},
   "source": [
    "# Model"
   ]
  },
  {
   "cell_type": "code",
   "execution_count": null,
   "metadata": {},
   "outputs": [],
   "source": []
  },
  {
   "cell_type": "markdown",
   "metadata": {},
   "source": [
    "# iNterpret"
   ]
  },
  {
   "cell_type": "code",
   "execution_count": null,
   "metadata": {},
   "outputs": [],
   "source": []
  }
 ],
 "metadata": {
  "kernelspec": {
   "display_name": "learn-env",
   "language": "python",
   "name": "learn-env"
  },
  "language_info": {
   "codemirror_mode": {
    "name": "ipython",
    "version": 3
   },
   "file_extension": ".py",
   "mimetype": "text/x-python",
   "name": "python",
   "nbconvert_exporter": "python",
   "pygments_lexer": "ipython3",
   "version": "3.6.9"
  },
  "toc": {
   "base_numbering": 1,
   "nav_menu": {},
   "number_sections": true,
   "sideBar": true,
   "skip_h1_title": false,
   "title_cell": "Table of Contents",
   "title_sidebar": "Contents",
   "toc_cell": false,
   "toc_position": {},
   "toc_section_display": true,
   "toc_window_display": false
  },
  "varInspector": {
   "cols": {
    "lenName": 16,
    "lenType": 16,
    "lenVar": 40
   },
   "kernels_config": {
    "python": {
     "delete_cmd_postfix": "",
     "delete_cmd_prefix": "del ",
     "library": "var_list.py",
     "varRefreshCmd": "print(var_dic_list())"
    },
    "r": {
     "delete_cmd_postfix": ") ",
     "delete_cmd_prefix": "rm(",
     "library": "var_list.r",
     "varRefreshCmd": "cat(var_dic_list()) "
    }
   },
   "types_to_exclude": [
    "module",
    "function",
    "builtin_function_or_method",
    "instance",
    "_Feature"
   ],
   "window_display": true
  }
 },
 "nbformat": 4,
 "nbformat_minor": 2
}
