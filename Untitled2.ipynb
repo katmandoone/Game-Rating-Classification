{
 "cells": [
  {
   "cell_type": "code",
   "execution_count": 1,
   "metadata": {
    "ExecuteTime": {
     "end_time": "2021-05-18T19:19:10.184916Z",
     "start_time": "2021-05-18T19:19:07.817486Z"
    }
   },
   "outputs": [],
   "source": [
    "import tensorflow as tf"
   ]
  },
  {
   "cell_type": "code",
   "execution_count": 2,
   "metadata": {
    "ExecuteTime": {
     "end_time": "2021-05-18T19:19:11.249852Z",
     "start_time": "2021-05-18T19:19:11.162326Z"
    }
   },
   "outputs": [
    {
     "data": {
      "text/plain": [
       "<tf.Tensor: shape=(), dtype=float32, numpy=2173.5496>"
      ]
     },
     "execution_count": 2,
     "metadata": {},
     "output_type": "execute_result"
    }
   ],
   "source": [
    "tf.reduce_sum(tf.random.normal([1000, 1000]))"
   ]
  },
  {
   "cell_type": "code",
   "execution_count": 3,
   "metadata": {
    "ExecuteTime": {
     "end_time": "2021-05-18T19:19:11.935503Z",
     "start_time": "2021-05-18T19:19:11.915468Z"
    }
   },
   "outputs": [
    {
     "name": "stdout",
     "output_type": "stream",
     "text": [
      "tf.Tensor(951.4728, shape=(), dtype=float32)\n"
     ]
    }
   ],
   "source": [
    "print(tf.reduce_sum(tf.random.normal([1000, 1000])))"
   ]
  },
  {
   "cell_type": "code",
   "execution_count": 4,
   "metadata": {
    "ExecuteTime": {
     "end_time": "2021-05-18T19:19:12.872131Z",
     "start_time": "2021-05-18T19:19:12.819435Z"
    }
   },
   "outputs": [
    {
     "name": "stderr",
     "output_type": "stream",
     "text": [
      "Python 3.6.9 :: Anaconda, Inc.\n"
     ]
    }
   ],
   "source": [
    "!python --version"
   ]
  },
  {
   "cell_type": "code",
   "execution_count": 5,
   "metadata": {
    "ExecuteTime": {
     "end_time": "2021-05-18T19:19:13.462301Z",
     "start_time": "2021-05-18T19:19:13.449292Z"
    }
   },
   "outputs": [
    {
     "name": "stdout",
     "output_type": "stream",
     "text": [
      "Num GPUs Available:  0\n"
     ]
    }
   ],
   "source": [
    "print('Num GPUs Available: ', len(tf.config.experimental.list_physical_devices('GPU')))"
   ]
  },
  {
   "cell_type": "code",
   "execution_count": 7,
   "metadata": {
    "ExecuteTime": {
     "end_time": "2021-05-18T20:17:51.544276Z",
     "start_time": "2021-05-18T20:17:49.140042Z"
    }
   },
   "outputs": [
    {
     "name": "stdout",
     "output_type": "stream",
     "text": [
      "Requirement already satisfied: six in c:\\users\\katma\\anaconda3\\envs\\learn-env\\lib\\site-packages (1.15.0)\n",
      "Requirement already satisfied: numpy in c:\\users\\katma\\anaconda3\\envs\\learn-env\\lib\\site-packages (1.19.2)\n",
      "Requirement already satisfied: wheel in c:\\users\\katma\\anaconda3\\envs\\learn-env\\lib\\site-packages (0.36.2)\n"
     ]
    },
    {
     "name": "stderr",
     "output_type": "stream",
     "text": [
      "WARNING: You are using pip version 21.0.1; however, version 21.1.1 is available.\n",
      "You should consider upgrading via the 'c:\\users\\katma\\anaconda3\\envs\\learn-env\\python.exe -m pip install --upgrade pip' command.\n"
     ]
    }
   ],
   "source": [
    "!pip3 install six numpy wheel"
   ]
  },
  {
   "cell_type": "code",
   "execution_count": 9,
   "metadata": {
    "ExecuteTime": {
     "end_time": "2021-05-18T20:18:31.351967Z",
     "start_time": "2021-05-18T20:18:21.955097Z"
    }
   },
   "outputs": [
    {
     "name": "stdout",
     "output_type": "stream",
     "text": [
      "Requirement already satisfied: pip in c:\\users\\katma\\anaconda3\\envs\\learn-env\\lib\\site-packages (21.0.1)\n",
      "Collecting pip\n",
      "  Downloading pip-21.1.1-py3-none-any.whl (1.5 MB)\n",
      "Installing collected packages: pip\n",
      "  Attempting uninstall: pip\n",
      "    Found existing installation: pip 21.0.1\n",
      "    Uninstalling pip-21.0.1:\n",
      "      Successfully uninstalled pip-21.0.1\n"
     ]
    },
    {
     "name": "stderr",
     "output_type": "stream",
     "text": [
      "ERROR: Could not install packages due to an OSError: [WinError 5] Access is denied: 'C:\\\\Users\\\\katma\\\\AppData\\\\Local\\\\Temp\\\\pip-uninstall-ts94xz2f\\\\pip.exe'\n",
      "Consider using the `--user` option or check the permissions.\n",
      "\n"
     ]
    }
   ],
   "source": [
    "!pip install --upgrade pip"
   ]
  },
  {
   "cell_type": "code",
   "execution_count": 11,
   "metadata": {
    "ExecuteTime": {
     "end_time": "2021-05-18T20:19:10.076881Z",
     "start_time": "2021-05-18T20:19:10.047845Z"
    }
   },
   "outputs": [
    {
     "name": "stderr",
     "output_type": "stream",
     "text": [
      "'sudo' is not recognized as an internal or external command,\n",
      "operable program or batch file.\n"
     ]
    }
   ],
   "source": [
    "!sudo pip install --upgrade pip"
   ]
  },
  {
   "cell_type": "code",
   "execution_count": 12,
   "metadata": {
    "ExecuteTime": {
     "end_time": "2021-05-18T20:33:49.807723Z",
     "start_time": "2021-05-18T20:33:47.223953Z"
    }
   },
   "outputs": [
    {
     "name": "stdout",
     "output_type": "stream",
     "text": [
      "Collecting jupyter_http_over_ws\n",
      "  Downloading jupyter_http_over_ws-0.0.8-py2.py3-none-any.whl (18 kB)\n",
      "Requirement already satisfied: six>=1.6.0 in c:\\users\\katma\\anaconda3\\envs\\learn-env\\lib\\site-packages (from jupyter_http_over_ws) (1.15.0)\n",
      "Requirement already satisfied: notebook>=5.0 in c:\\users\\katma\\anaconda3\\envs\\learn-env\\lib\\site-packages (from jupyter_http_over_ws) (6.0.1)\n",
      "Requirement already satisfied: tornado>=4.5 in c:\\users\\katma\\anaconda3\\envs\\learn-env\\lib\\site-packages (from jupyter_http_over_ws) (6.0.3)\n",
      "Requirement already satisfied: jupyter-core>=4.4.0 in c:\\users\\katma\\anaconda3\\envs\\learn-env\\lib\\site-packages (from notebook>=5.0->jupyter_http_over_ws) (4.5.0)\n",
      "Requirement already satisfied: jupyter-client>=5.3.1 in c:\\users\\katma\\anaconda3\\envs\\learn-env\\lib\\site-packages (from notebook>=5.0->jupyter_http_over_ws) (5.3.3)\n",
      "Requirement already satisfied: Send2Trash in c:\\users\\katma\\anaconda3\\envs\\learn-env\\lib\\site-packages (from notebook>=5.0->jupyter_http_over_ws) (1.5.0)\n",
      "Requirement already satisfied: nbconvert in c:\\users\\katma\\anaconda3\\envs\\learn-env\\lib\\site-packages (from notebook>=5.0->jupyter_http_over_ws) (5.6.0)\n",
      "Requirement already satisfied: traitlets>=4.2.1 in c:\\users\\katma\\anaconda3\\envs\\learn-env\\lib\\site-packages (from notebook>=5.0->jupyter_http_over_ws) (4.3.3)\n",
      "Requirement already satisfied: terminado>=0.8.1 in c:\\users\\katma\\anaconda3\\envs\\learn-env\\lib\\site-packages (from notebook>=5.0->jupyter_http_over_ws) (0.8.2)\n",
      "Requirement already satisfied: pyzmq>=17 in c:\\users\\katma\\anaconda3\\envs\\learn-env\\lib\\site-packages (from notebook>=5.0->jupyter_http_over_ws) (18.1.0)\n",
      "Requirement already satisfied: ipykernel in c:\\users\\katma\\anaconda3\\envs\\learn-env\\lib\\site-packages (from notebook>=5.0->jupyter_http_over_ws) (5.1.2)\n",
      "Requirement already satisfied: ipython-genutils in c:\\users\\katma\\anaconda3\\envs\\learn-env\\lib\\site-packages (from notebook>=5.0->jupyter_http_over_ws) (0.2.0)\n",
      "Requirement already satisfied: nbformat in c:\\users\\katma\\anaconda3\\envs\\learn-env\\lib\\site-packages (from notebook>=5.0->jupyter_http_over_ws) (4.4.0)\n",
      "Requirement already satisfied: prometheus-client in c:\\users\\katma\\anaconda3\\envs\\learn-env\\lib\\site-packages (from notebook>=5.0->jupyter_http_over_ws) (0.7.1)\n",
      "Requirement already satisfied: jinja2 in c:\\users\\katma\\appdata\\roaming\\python\\python36\\site-packages (from notebook>=5.0->jupyter_http_over_ws) (3.0.0)\n",
      "Requirement already satisfied: pywin32>=1.0 in c:\\users\\katma\\anaconda3\\envs\\learn-env\\lib\\site-packages (from jupyter-client>=5.3.1->notebook>=5.0->jupyter_http_over_ws) (223)\n",
      "Requirement already satisfied: python-dateutil>=2.1 in c:\\users\\katma\\anaconda3\\envs\\learn-env\\lib\\site-packages (from jupyter-client>=5.3.1->notebook>=5.0->jupyter_http_over_ws) (2.8.0)\n",
      "Requirement already satisfied: decorator in c:\\users\\katma\\anaconda3\\envs\\learn-env\\lib\\site-packages (from traitlets>=4.2.1->notebook>=5.0->jupyter_http_over_ws) (4.4.0)\n",
      "Requirement already satisfied: ipython>=5.0.0 in c:\\users\\katma\\anaconda3\\envs\\learn-env\\lib\\site-packages (from ipykernel->notebook>=5.0->jupyter_http_over_ws) (7.8.0)\n",
      "Requirement already satisfied: backcall in c:\\users\\katma\\anaconda3\\envs\\learn-env\\lib\\site-packages (from ipython>=5.0.0->ipykernel->notebook>=5.0->jupyter_http_over_ws) (0.1.0)\n",
      "Requirement already satisfied: colorama in c:\\users\\katma\\anaconda3\\envs\\learn-env\\lib\\site-packages (from ipython>=5.0.0->ipykernel->notebook>=5.0->jupyter_http_over_ws) (0.4.1)\n",
      "Requirement already satisfied: jedi>=0.10 in c:\\users\\katma\\anaconda3\\envs\\learn-env\\lib\\site-packages (from ipython>=5.0.0->ipykernel->notebook>=5.0->jupyter_http_over_ws) (0.15.1)\n",
      "Requirement already satisfied: prompt-toolkit<2.1.0,>=2.0.0 in c:\\users\\katma\\anaconda3\\envs\\learn-env\\lib\\site-packages (from ipython>=5.0.0->ipykernel->notebook>=5.0->jupyter_http_over_ws) (2.0.10)\n",
      "Requirement already satisfied: setuptools>=18.5 in c:\\users\\katma\\anaconda3\\envs\\learn-env\\lib\\site-packages (from ipython>=5.0.0->ipykernel->notebook>=5.0->jupyter_http_over_ws) (41.4.0)\n",
      "Requirement already satisfied: pygments in c:\\users\\katma\\anaconda3\\envs\\learn-env\\lib\\site-packages (from ipython>=5.0.0->ipykernel->notebook>=5.0->jupyter_http_over_ws) (2.4.2)\n",
      "Requirement already satisfied: pickleshare in c:\\users\\katma\\anaconda3\\envs\\learn-env\\lib\\site-packages (from ipython>=5.0.0->ipykernel->notebook>=5.0->jupyter_http_over_ws) (0.7.5)\n",
      "Requirement already satisfied: parso>=0.5.0 in c:\\users\\katma\\anaconda3\\envs\\learn-env\\lib\\site-packages (from jedi>=0.10->ipython>=5.0.0->ipykernel->notebook>=5.0->jupyter_http_over_ws) (0.5.1)\n",
      "Requirement already satisfied: wcwidth in c:\\users\\katma\\anaconda3\\envs\\learn-env\\lib\\site-packages (from prompt-toolkit<2.1.0,>=2.0.0->ipython>=5.0.0->ipykernel->notebook>=5.0->jupyter_http_over_ws) (0.1.7)\n",
      "Requirement already satisfied: MarkupSafe>=2.0.0rc2 in c:\\users\\katma\\anaconda3\\envs\\learn-env\\lib\\site-packages (from jinja2->notebook>=5.0->jupyter_http_over_ws) (2.0.0)\n",
      "Requirement already satisfied: pandocfilters>=1.4.1 in c:\\users\\katma\\anaconda3\\envs\\learn-env\\lib\\site-packages (from nbconvert->notebook>=5.0->jupyter_http_over_ws) (1.4.2)\n",
      "Requirement already satisfied: mistune<2,>=0.8.1 in c:\\users\\katma\\anaconda3\\envs\\learn-env\\lib\\site-packages (from nbconvert->notebook>=5.0->jupyter_http_over_ws) (0.8.4)\n",
      "Requirement already satisfied: entrypoints>=0.2.2 in c:\\users\\katma\\anaconda3\\envs\\learn-env\\lib\\site-packages (from nbconvert->notebook>=5.0->jupyter_http_over_ws) (0.3)\n",
      "Requirement already satisfied: bleach in c:\\users\\katma\\anaconda3\\envs\\learn-env\\lib\\site-packages (from nbconvert->notebook>=5.0->jupyter_http_over_ws) (1.5.0)\n",
      "Requirement already satisfied: defusedxml in c:\\users\\katma\\anaconda3\\envs\\learn-env\\lib\\site-packages (from nbconvert->notebook>=5.0->jupyter_http_over_ws) (0.6.0)\n",
      "Requirement already satisfied: testpath in c:\\users\\katma\\anaconda3\\envs\\learn-env\\lib\\site-packages (from nbconvert->notebook>=5.0->jupyter_http_over_ws) (0.4.2)\n",
      "Requirement already satisfied: jsonschema!=2.5.0,>=2.4 in c:\\users\\katma\\anaconda3\\envs\\learn-env\\lib\\site-packages (from nbformat->notebook>=5.0->jupyter_http_over_ws) (3.0.2)\n",
      "Requirement already satisfied: pyrsistent>=0.14.0 in c:\\users\\katma\\anaconda3\\envs\\learn-env\\lib\\site-packages (from jsonschema!=2.5.0,>=2.4->nbformat->notebook>=5.0->jupyter_http_over_ws) (0.15.4)\n",
      "Requirement already satisfied: attrs>=17.4.0 in c:\\users\\katma\\anaconda3\\envs\\learn-env\\lib\\site-packages (from jsonschema!=2.5.0,>=2.4->nbformat->notebook>=5.0->jupyter_http_over_ws) (20.3.0)\n",
      "Requirement already satisfied: html5lib!=0.9999,!=0.99999,<0.99999999,>=0.999 in c:\\users\\katma\\anaconda3\\envs\\learn-env\\lib\\site-packages (from bleach->nbconvert->notebook>=5.0->jupyter_http_over_ws) (0.9999999)\n",
      "Installing collected packages: jupyter-http-over-ws\n",
      "Successfully installed jupyter-http-over-ws-0.0.8\n"
     ]
    },
    {
     "name": "stderr",
     "output_type": "stream",
     "text": [
      "WARNING: Ignoring invalid distribution -umpy (c:\\users\\katma\\anaconda3\\envs\\learn-env\\lib\\site-packages)\n",
      "WARNING: Ignoring invalid distribution -umpy (c:\\users\\katma\\anaconda3\\envs\\learn-env\\lib\\site-packages)\n",
      "WARNING: Ignoring invalid distribution -umpy (c:\\users\\katma\\anaconda3\\envs\\learn-env\\lib\\site-packages)\n",
      "WARNING: Ignoring invalid distribution -umpy (c:\\users\\katma\\anaconda3\\envs\\learn-env\\lib\\site-packages)\n",
      "WARNING: Ignoring invalid distribution -umpy (c:\\users\\katma\\anaconda3\\envs\\learn-env\\lib\\site-packages)\n",
      "WARNING: Ignoring invalid distribution -umpy (c:\\users\\katma\\anaconda3\\envs\\learn-env\\lib\\site-packages)\n"
     ]
    }
   ],
   "source": [
    "!pip install jupyter_http_over_ws"
   ]
  },
  {
   "cell_type": "code",
   "execution_count": 13,
   "metadata": {
    "ExecuteTime": {
     "end_time": "2021-05-18T20:34:46.925991Z",
     "start_time": "2021-05-18T20:34:45.977878Z"
    }
   },
   "outputs": [
    {
     "name": "stderr",
     "output_type": "stream",
     "text": [
      "Enabling: jupyter_http_over_ws\n",
      "- Writing config: C:\\Users\\katma\\.jupyter\n",
      "    - Validating...\n",
      "      jupyter_http_over_ws 0.0.7 ok\n"
     ]
    }
   ],
   "source": [
    "!jupyter serverextension enable --py jupyter_http_over_ws"
   ]
  },
  {
   "cell_type": "code",
   "execution_count": null,
   "metadata": {},
   "outputs": [],
   "source": []
  }
 ],
 "metadata": {
  "kernelspec": {
   "display_name": "learn-env",
   "language": "python",
   "name": "learn-env"
  },
  "language_info": {
   "codemirror_mode": {
    "name": "ipython",
    "version": 3
   },
   "file_extension": ".py",
   "mimetype": "text/x-python",
   "name": "python",
   "nbconvert_exporter": "python",
   "pygments_lexer": "ipython3",
   "version": "3.6.9"
  },
  "toc": {
   "base_numbering": 1,
   "nav_menu": {},
   "number_sections": true,
   "sideBar": true,
   "skip_h1_title": false,
   "title_cell": "Table of Contents",
   "title_sidebar": "Contents",
   "toc_cell": false,
   "toc_position": {},
   "toc_section_display": true,
   "toc_window_display": false
  },
  "varInspector": {
   "cols": {
    "lenName": 16,
    "lenType": 16,
    "lenVar": 40
   },
   "kernels_config": {
    "python": {
     "delete_cmd_postfix": "",
     "delete_cmd_prefix": "del ",
     "library": "var_list.py",
     "varRefreshCmd": "print(var_dic_list())"
    },
    "r": {
     "delete_cmd_postfix": ") ",
     "delete_cmd_prefix": "rm(",
     "library": "var_list.r",
     "varRefreshCmd": "cat(var_dic_list()) "
    }
   },
   "types_to_exclude": [
    "module",
    "function",
    "builtin_function_or_method",
    "instance",
    "_Feature"
   ],
   "window_display": true
  }
 },
 "nbformat": 4,
 "nbformat_minor": 2
}
