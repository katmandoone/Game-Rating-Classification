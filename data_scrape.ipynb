{
 "cells": [
  {
   "cell_type": "code",
   "execution_count": null,
   "metadata": {
    "ExecuteTime": {
     "end_time": "2021-06-15T16:33:51.846872Z",
     "start_time": "2021-06-15T16:33:51.136071Z"
    }
   },
   "outputs": [],
   "source": [
    "from selenium import webdriver\n",
    "from selenium.webdriver.common.by import By\n",
    "from selenium.webdriver.common.keys import Keys\n",
    "import pandas as pd\n",
    "import time\n",
    "import os"
   ]
  },
  {
   "cell_type": "code",
   "execution_count": null,
   "metadata": {
    "ExecuteTime": {
     "end_time": "2021-05-14T19:59:04.509938Z",
     "start_time": "2021-05-14T19:59:04.481480Z"
    }
   },
   "outputs": [],
   "source": [
    "# Dataset containing ESRB ratings for Switch, Xbox One, and PS4 games\n",
    "\n",
    "df = pd.read_pickle('esrb_ratings.pkl')\n",
    "\n",
    "df.head()"
   ]
  },
  {
   "cell_type": "code",
   "execution_count": null,
   "metadata": {
    "ExecuteTime": {
     "end_time": "2021-05-14T19:59:15.721956Z",
     "start_time": "2021-05-14T19:59:15.712711Z"
    }
   },
   "outputs": [],
   "source": [
    "# Drop any characters from game titles that might interfere\n",
    "\n",
    "titles = []\n",
    "bad_chars = ['*', ':', ';', '+', '~', '-', '/', '.', '?', '!',\n",
    "             '<', '>', '‘', \"'\", '\"', '™', '®']\n",
    "for title in df['title']:\n",
    "    for char in bad_chars:\n",
    "        title = title.replace(char, '')\n",
    "    titles.append(title)\n",
    "\n",
    "titles[:10]"
   ]
  },
  {
   "cell_type": "code",
   "execution_count": null,
   "metadata": {
    "ExecuteTime": {
     "end_time": "2021-05-14T19:59:18.492632Z",
     "start_time": "2021-05-14T19:59:18.486608Z"
    }
   },
   "outputs": [],
   "source": [
    "# Replace titles in dataframe with edited titles\n",
    "\n",
    "df['title'] = titles\n",
    "\n",
    "df['title'][:10]"
   ]
  },
  {
   "cell_type": "code",
   "execution_count": null,
   "metadata": {
    "ExecuteTime": {
     "end_time": "2021-05-14T19:59:19.774682Z",
     "start_time": "2021-05-14T19:59:19.748046Z"
    }
   },
   "outputs": [],
   "source": [
    "df[:10]"
   ]
  },
  {
   "cell_type": "code",
   "execution_count": null,
   "metadata": {
    "ExecuteTime": {
     "end_time": "2021-06-15T16:22:05.880849Z",
     "start_time": "2021-06-15T16:22:05.794817Z"
    },
    "scrolled": true
   },
   "outputs": [],
   "source": [
    "# Make a directory for each rating\n",
    "\n",
    "for x in df['rating'].unique():\n",
    "    os.mkdir('./images/' + x)"
   ]
  },
  {
   "cell_type": "code",
   "execution_count": null,
   "metadata": {
    "ExecuteTime": {
     "end_time": "2021-05-14T19:59:41.184898Z",
     "start_time": "2021-05-14T19:59:39.959839Z"
    }
   },
   "outputs": [],
   "source": [
    "# Start webscraper\n",
    "\n",
    "option = webdriver.ChromeOptions()\n",
    "option.add_argument('incognito')\n",
    "\n",
    "driver = webdriver.Chrome(options=option)"
   ]
  },
  {
   "cell_type": "code",
   "execution_count": null,
   "metadata": {
    "ExecuteTime": {
     "end_time": "2021-05-15T03:25:33.732505Z",
     "start_time": "2021-05-14T20:00:15.589172Z"
    }
   },
   "outputs": [],
   "source": [
    "# Go to Google Images\n",
    "driver.get('https://google.com/images')\n",
    "\n",
    "filenames = []\n",
    "for idx in range(len(df)):\n",
    "    try:\n",
    "        # Search each title\n",
    "        driver.find_element(By.NAME, 'q').clear()\n",
    "        driver.find_element(By.NAME, 'q').send_keys(df['title'][idx] + ' video game screenshot' + Keys.RETURN)\n",
    "        \n",
    "        # Grab the first ten images\n",
    "        images = driver.find_elements_by_class_name('rg_i')\n",
    "        print('#' + str(idx) + ' --- ' + df['title'][idx])\n",
    "        for i, image in enumerate(images[:10]):\n",
    "            filename = './images/' + df['rating'][idx] + '/' + df['title'][idx] + '_' + str(i) + '.png'\n",
    "            with open(filename, 'wb') as file:\n",
    "                file.write(image.screenshot_as_png)\n",
    "            \n",
    "            filenames.append(filename)\n",
    "        print('Done!')\n",
    "        \n",
    "        # Wait so Google doesn't freak out\n",
    "        time.sleep(3)\n",
    "    except:\n",
    "        print('#' + str(idx) + '---' + df['title'][idx])\n",
    "        print('ERROR')\n",
    "        continue"
   ]
  },
  {
   "cell_type": "code",
   "execution_count": null,
   "metadata": {},
   "outputs": [],
   "source": []
  }
 ],
 "metadata": {
  "kernelspec": {
   "display_name": "learn-env",
   "language": "python",
   "name": "learn-env"
  },
  "language_info": {
   "codemirror_mode": {
    "name": "ipython",
    "version": 3
   },
   "file_extension": ".py",
   "mimetype": "text/x-python",
   "name": "python",
   "nbconvert_exporter": "python",
   "pygments_lexer": "ipython3",
   "version": "3.6.9"
  },
  "toc": {
   "base_numbering": 1,
   "nav_menu": {},
   "number_sections": true,
   "sideBar": true,
   "skip_h1_title": false,
   "title_cell": "Table of Contents",
   "title_sidebar": "Contents",
   "toc_cell": false,
   "toc_position": {},
   "toc_section_display": true,
   "toc_window_display": false
  },
  "varInspector": {
   "cols": {
    "lenName": 16,
    "lenType": 16,
    "lenVar": 40
   },
   "kernels_config": {
    "python": {
     "delete_cmd_postfix": "",
     "delete_cmd_prefix": "del ",
     "library": "var_list.py",
     "varRefreshCmd": "print(var_dic_list())"
    },
    "r": {
     "delete_cmd_postfix": ") ",
     "delete_cmd_prefix": "rm(",
     "library": "var_list.r",
     "varRefreshCmd": "cat(var_dic_list()) "
    }
   },
   "types_to_exclude": [
    "module",
    "function",
    "builtin_function_or_method",
    "instance",
    "_Feature"
   ],
   "window_display": true
  }
 },
 "nbformat": 4,
 "nbformat_minor": 2
}
